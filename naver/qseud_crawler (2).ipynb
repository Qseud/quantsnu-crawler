{
 "cells": [
  {
   "cell_type": "markdown",
   "metadata": {},
   "source": [
    ">네이버 금융의 국내증시 거래상위에 있는 종목 100개의 일주일간 매분 시세 저장해주기\n",
    "- 화요일에는 7일전까지 자료가 나왔는데 금요일밤 해보니 월요일부터 나온다. 언제 초기화될까?"
   ]
  },
  {
   "cell_type": "code",
   "execution_count": 1,
   "metadata": {
    "collapsed": true
   },
   "outputs": [],
   "source": [
    "import requests\n",
    "import bs4\n",
    "import pandas as pd\n",
    "import datetime"
   ]
  },
  {
   "cell_type": "code",
   "execution_count": 2,
   "metadata": {
    "collapsed": true
   },
   "outputs": [],
   "source": [
    "url = \"http://finance.naver.com/sise/sise_quant.nhn\""
   ]
  },
  {
   "cell_type": "code",
   "execution_count": 3,
   "metadata": {
    "collapsed": false
   },
   "outputs": [],
   "source": [
    "res = requests.get(url)"
   ]
  },
  {
   "cell_type": "code",
   "execution_count": 4,
   "metadata": {
    "collapsed": true
   },
   "outputs": [],
   "source": [
    "parsed = bs4.BeautifulSoup(res.text, \"html.parser\")"
   ]
  },
  {
   "cell_type": "code",
   "execution_count": 5,
   "metadata": {
    "collapsed": false
   },
   "outputs": [],
   "source": [
    "name_t = []\n",
    "name_n = []\n",
    "for td in parsed.find_all(name = \"td\"):\n",
    "    if str(type(td.find(\"a\"))) != \"<class 'NoneType'>\":\n",
    "        name_t.append(td.find(\"a\").text)\n",
    "        name_n.append(td.find(\"a\"))"
   ]
  },
  {
   "cell_type": "code",
   "execution_count": 6,
   "metadata": {
    "collapsed": false
   },
   "outputs": [],
   "source": [
    "address = []\n",
    "for n in name_n:\n",
    "    address.append(str(n)[43:49])\n",
    "    \n",
    "thistime = []\n",
    "time = []\n",
    "now = datetime.datetime.now()\n",
    "for t in range(7):\n",
    "    thistime.append(\"{:0=4}{:0=2}{:0=2}{:0=2}{:0=2}{:0=2}\".format(now.year,now.month,\n",
    "                                      now.day-6+t, now.hour+15,now.minute,now.second)) \n",
    "    time.append(\"{:0=4}-{:0=2}-{:0=2}\".format(now.year,now.month,\n",
    "                                      now.day-6+t))\n",
    "\n",
    "page = []\n",
    "for p in range(42):\n",
    "    page.append(p+1)"
   ]
  },
  {
   "cell_type": "code",
   "execution_count": 7,
   "metadata": {
    "collapsed": true
   },
   "outputs": [],
   "source": [
    "url1 = \"http://finance.naver.com/item/sise_time.nhn?code={}&thistime={}&page={}\""
   ]
  },
  {
   "cell_type": "code",
   "execution_count": 9,
   "metadata": {
    "collapsed": false,
    "scrolled": true
   },
   "outputs": [],
   "source": [
    "df_list = []\n",
    "count = 0\n",
    "for n in range(len(address[0:2])):\n",
    "    for t in range(len(thistime[4:6])):\n",
    "        data= []\n",
    "        for p in page:\n",
    "            res1 = requests.get(url1.format(address[n],thistime[t+2],p))\n",
    "            parsed1 = bs4.BeautifulSoup(res1.text, \"html.parser\")\n",
    "            for td in parsed1.find_all(name = \"td\"):\n",
    "                if str(type(td.find(\"span\"))) != \"<class 'NoneType'>\":\n",
    "                    count = count +1\n",
    "                    if count//7*7 == count - 1:\n",
    "                        data.append(name_t[n])\n",
    "                        data.append(time[t])\n",
    "                    data.append(td.find(\"span\").text)\n",
    "                \n",
    "        for i in range(4,len(data),9):\n",
    "            data[i] = int(data[i])\n",
    "        for j in range(0,len(data),9):\n",
    "            df_list.append(data[j:j+9])\n",
    "\n",
    "df = pd.DataFrame(df_list, columns= [\"종목명\", \"날짜\", \"체결시각\", \"체결가\", \"전일비\", \n",
    "                                     \"매도\", \"매수\", \"거래량\", \"변동량\"])"
   ]
  }
 ],
 "metadata": {
  "anaconda-cloud": {},
  "kernelspec": {
   "display_name": "Python [Root]",
   "language": "python",
   "name": "Python [Root]"
  },
  "language_info": {
   "codemirror_mode": {
    "name": "ipython",
    "version": 3
   },
   "file_extension": ".py",
   "mimetype": "text/x-python",
   "name": "python",
   "nbconvert_exporter": "python",
   "pygments_lexer": "ipython3",
   "version": "3.5.1"
  }
 },
 "nbformat": 4,
 "nbformat_minor": 0
}
